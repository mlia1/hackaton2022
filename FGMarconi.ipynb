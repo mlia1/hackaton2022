{
  "nbformat": 4,
  "nbformat_minor": 0,
  "metadata": {
    "colab": {
      "provenance": [],
      "authorship_tag": "ABX9TyNK9/BSeo7B8aSikmhHREGf",
      "include_colab_link": true
    },
    "kernelspec": {
      "name": "python3",
      "display_name": "Python 3"
    },
    "language_info": {
      "name": "python"
    }
  },
  "cells": [
    {
      "cell_type": "markdown",
      "metadata": {
        "id": "view-in-github",
        "colab_type": "text"
      },
      "source": [
        "<a href=\"https://colab.research.google.com/github/mlia1/hackaton2022/blob/main/FGMarconi.ipynb\" target=\"_parent\"><img src=\"https://colab.research.google.com/assets/colab-badge.svg\" alt=\"Open In Colab\"/></a>"
      ]
    },
    {
      "cell_type": "markdown",
      "source": [
        "Perception feature group README."
      ],
      "metadata": {
        "id": "rci0JFZS11pj"
      }
    },
    {
      "cell_type": "markdown",
      "source": [
        "First things first."
      ],
      "metadata": {
        "id": "HLoWHwNi1kTP"
      }
    },
    {
      "cell_type": "code",
      "source": [
        "$ cd ~/catkin_ws/\n",
        "$ source ~/.bashrc\n",
        "$ source devel/setup.bash"
      ],
      "metadata": {
        "id": "N2fLeqyw1sNl"
      },
      "execution_count": null,
      "outputs": []
    },
    {
      "cell_type": "markdown",
      "source": [
        "Mapping using gmapping http://wiki.ros.org/\n",
        "gmapping require odometry + sensor streams as input\n",
        "\n",
        "To create those input, we simulated the turtlebot3 robot. It has a lidar sensor embedded, and the following topics of interest are provided:\n",
        "- tf\n",
        "- scan\n",
        "\n",
        "https://automaticaddison.com/how-to-launch-the-turtlebot3-simulation-with-ros/\n",
        "\n",
        "The tutorial includes SLAM simulation in Gazebo and gviz.\n",
        "\n",
        "Exception:"
      ],
      "metadata": {
        "id": "POctAhZoYPmK"
      }
    },
    {
      "cell_type": "code",
      "execution_count": null,
      "metadata": {
        "id": "FMFuADolYOhM"
      },
      "outputs": [],
      "source": [
        "sudo apt install ros-noetic-slam-gmapping\n",
        "#we replaced melodic with noetic "
      ]
    },
    {
      "cell_type": "markdown",
      "source": [
        "we also changed the environment in the \"House\".\n",
        "\n",
        "To control remotely the robot with keyboard:"
      ],
      "metadata": {
        "id": "ZN9e9samZ8aS"
      }
    },
    {
      "cell_type": "code",
      "source": [
        "sudo apt-get install ros-noetic-map-server\n",
        "roslaunch turtlebot3_teleop turtlebot3_teleop_key.launch"
      ],
      "metadata": {
        "id": "rWXY4ufaa6rm"
      },
      "execution_count": null,
      "outputs": []
    },
    {
      "cell_type": "markdown",
      "source": [
        "To save the map we used the following command, but here we met a problem"
      ],
      "metadata": {
        "id": "wQMIbrDgaHJq"
      }
    },
    {
      "cell_type": "code",
      "source": [
        "rosrun map_server map_saver -f ~/map"
      ],
      "metadata": {
        "id": "NHthvWEEdIEq"
      },
      "execution_count": null,
      "outputs": []
    },
    {
      "cell_type": "markdown",
      "source": [
        "Localization using Monte Carlo method http://wiki.ros.org/amcl"
      ],
      "metadata": {
        "id": "KbH9zrkZYc5g"
      }
    }
  ]
}